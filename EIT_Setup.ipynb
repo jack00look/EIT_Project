{
 "cells": [
  {
   "cell_type": "markdown",
   "metadata": {},
   "source": [
    "# TroubleShooting\n",
    "\n",
    "## Frequency-Dependent Noise\n",
    "\n",
    "If you notice some noise that is \"locked\" to the signal, in the sense that the noise shape is like \"attached\" to the signal shape, and so if for example you double the signal frequency (eg laser current modulation) the shape of the noise over the signal remains constant.\\\n",
    "\n",
    "This could be due to some \"interferometry effect\", ie some components of the beams gets reflected to the beam itself, for example the beam component that gets reflected out of a PBS, thus interfering with itself.\\\n",
    "\n",
    "This happens because we are using coherent beams, in the sense that they are phase locked and only have small frequency differences.\\\n",
    "\n",
    "The solution is to block reflected beams with inclined/rough surfaces, like metallica metal foil, if it works you should see this noise disappear."
   ]
  }
 ],
 "metadata": {
  "language_info": {
   "name": "python"
  }
 },
 "nbformat": 4,
 "nbformat_minor": 2
}
