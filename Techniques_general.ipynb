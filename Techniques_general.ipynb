{
 "cells": [
  {
   "cell_type": "markdown",
   "metadata": {},
   "source": [
    "# Allineating the Fiber outcoupler\n",
    "\n",
    "To allineate the fiber outcoupler you basically need to chage the position of the outcoupler lense from the fiber beam until the beam is collimated (ie constant beam size).\n",
    "\n",
    "You can do some rough collimation looking at the beam size with the infrared card, you want to check the beam size kind of close to the fiber (eg 20cm) and kind of far (eg 60cm) and you want to change the position of the lense until it seems that the two beam sizes are kind of equal.\n",
    "\n",
    "For fine collimation instead you need a camera, as it can precisely measure the beam size. You want to do the same as you did with the bare eye. Keep in mind that collimation will never be perfect, so simply try to optimize it as best as you can."
   ]
  }
 ],
 "metadata": {
  "language_info": {
   "name": "python"
  }
 },
 "nbformat": 4,
 "nbformat_minor": 2
}
