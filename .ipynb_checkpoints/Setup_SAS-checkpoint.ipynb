{
 "cells": [
  {
   "cell_type": "markdown",
   "metadata": {},
   "source": [
    "# DFB\n",
    "The main characteristics of our DFB laser are the following (if many values I've chosen the recommended values):\n",
    "\n",
    "<img src=\"Images/DFB_table.png\" width=800 />\n",
    "\n",
    "From the measures of the previous internship student in first approximation for $I_F\\in[40mA,140mA]$ we have that:\n",
    "$$P_{out}[mW] \\approx 0.8708 \\cdot I_F[mA] -33.06 $$\n",
    "\n",
    "What is important is that the power of the laser at a fixed temperature is in good approximation linear with the current, and we can control the current through a waveform generator, and in good approximation, the error on the control of the current is then negligible.\n",
    "\n",
    "The other important data is that the laser has a $FWHM\\approx 1MHz$, so going forward it will be important to check that the linewidths we are going to adress are much larger than this.\n",
    "\n",
    "<img src=\"Images/wavemeter_laser.png\" width=500 />\n",
    "\n",
    "wavemeter measure of the laser, however, I do not know how to interpret it, but I thought it was a good idea to include it\n",
    "\n",
    "## Laser \"case\"\n",
    "\n",
    "The current laser box is not very robust, especially where the current and temperature control plugs are. This design will need to be improved and made more robust, or there could be a decent risk of breaking from \"mishandling\"."
   ]
  },
  {
   "cell_type": "markdown",
   "metadata": {},
   "source": [
    "# General scheme\n",
    "\n",
    "The SAS part of the setup is as follows:\n",
    "\n",
    "1. two mirrors to control the position of the laser beam\n",
    "2. optical isolator to avoid retroreflection that could damage the laser\n",
    "3. HWP+PBS to control SAS beam intensity\n",
    "4. mirror to redirect the beam to the SAS path\n",
    "5. OD filter to attenuate more the SAS beam intensity, so we can go to lower intensities if we want\n",
    "6. HWP to control ratio between pump and probe powers\n",
    "7. mirror to redirect the beam path\n",
    "8. PBS that splits probe (transmitted) from pump (reflected)\n",
    "9. lense system on the pump path so that the probe effectively \"sees\" the pump more homogeneous (pump becomes bigger than probe)\n",
    "\n",
    "<img src=\"Images/SAS_scheme.png\" width=400/>\n",
    "<img src=\"Images/SAS_photo.jpg\" width=600/>\n"
   ]
  },
  {
   "cell_type": "markdown",
   "metadata": {},
   "source": [
    "# Plugs\n",
    "\n",
    "Sometimes plugging instruments into different places can cause quite strong electrical noise.\n",
    "\n",
    "My advice is to keep this in mind as a thing to try when you see noise in the signal.\n",
    "\n",
    "We were seeing electrical noise when we had plugged the function generator, laser controls and SAS oscilloscope into different places, and the noise disappeared when we plugged everything into the same place (not sure if the oscilloscope was also problematic, but it's better to err on the safe side)"
   ]
  },
  {
   "cell_type": "markdown",
   "metadata": {},
   "source": [
    "# Allineation\n",
    "\n",
    "In order for SAS to work well you need the pump and probe beams to overlap.\n",
    "To control the overlapping remember the general rule: to control the overlap on the cell side \"close\" from the pump use the close far mirror, to control the overlap \"far\" from the pump use the close mirror.\n",
    "\n",
    "## Rough allineation\n",
    "\n",
    "Turn up the power of pump and probe so that they are clearly visible, with the infrared card try to allineate them as much as possible. Once they are kind of aligned turn down the power as much as you can while still seeing the beams, this will in fact make the beam sizes smaller so you can better allineate them.\n",
    "\n",
    "## Fine allineation\n",
    "\n",
    "Once you see the signal you can fine-tune the allineation simply by maximizing the height of the SAS peaks on the oscilloscope"
   ]
  },
  {
   "cell_type": "markdown",
   "metadata": {},
   "source": [
    "# Oscilloscope Data\n",
    "\n",
    "DC and AC signals can have wildly different precision for the csv data file. This can be an issue if you need the DC signal (eg for data spectroscopy data analysis).\n",
    "\n",
    "<img src=\"Images/DC_scope.jpeg\" width=300/>\n",
    "<img src=\"Images/DC_csv.png\" width=300/>\n",
    "\n",
    "The signal of the oscilloscope and what you save in DC can be wildly different in precision.\n",
    "\n",
    "This was also a problem with another oscilloscope brand (Agilent), when you offset the DC signal a lot. The solution I found was to save the signals both in DC and AC, in order to \"correct\" the AC signal with the DC mean. Keep in mind that this works if you take a whole signal period, otherwise the AC mean will not be zero.\n"
   ]
  },
  {
   "cell_type": "markdown",
   "metadata": {},
   "source": [
    "# Laser frequency scan\n",
    "\n",
    "You can modulate via analog input the laser current. To do this you need to insert a BNC cable to MOD IN (R2). This port has an input impedance $>10k\\Omega$ and can be modulated with a voltage in $[-10V,+10 ]$. The resulting current will be:\n",
    "\n",
    "$$ I = I_{SET} + I_{max} \\cdot \\frac{V_{MOD}}{10 V} $$\n",
    "\n",
    "You will notice that as the current increases the laser power increases but the frequency decreases. You can then \"play\" with the temperature control to change the power you have at the frequencies you need. Just keep in mind not to try to modulate the temperature for frequency modulation purposes, as the temperature has a certain \"stabilization time\".\n",
    "\n",
    "## Problem\n",
    "\n",
    "For some reason when modulating the current with a symmetric voltage signal the resulting signal is not symmetric. This is crucial if you want to lock. If your ramp starts for example with the down part then you should lock looking at the down part of the signal, otherwise when you turn the voltage control off you will not be at the frequency you thought you locked at.\n",
    "\n",
    "<img src=\"Images/current_asymmetry.jpg\" width=500 />\n",
    "\n"
   ]
  },
  {
   "cell_type": "markdown",
   "metadata": {},
   "source": [
    "# Heating and Zeeman\n",
    "\n",
    "The SAS cell has both heaters and a solenoid. Heating up the cell makes the SAS signal clearer, while we never tried to push for Zeeman spectroscopy.\n",
    "\n",
    "Heating is the same as described in the EIT_cell document"
   ]
  },
  {
   "cell_type": "markdown",
   "metadata": {},
   "source": [
    "# Locking\n",
    "\n",
    "Right now we are locking in a very crude way: we scan the laser frequency with the voltage modulation and we center the frequency we want (eg SAS peak) at the 0V position, then turn off the frequency modulation.\n",
    "\n",
    "This method can work if the timescale of frequency drifts is negligible compared to the data acquisition times, otherwise, PID stabilization could be necessary.\n",
    "\n",
    "It is not super clear how critical it is to lock at the exact frequency, as Doppler broadening could in fact broaden significantly the frequency region that yealds a signal. However, this is not well understood, so locking well is better.\n",
    "\n",
    "## Possible Improvements\n",
    "\n",
    "### PID control\n",
    "\n",
    "self-explanatory\n",
    "\n",
    "### Frequency control\n",
    "Selecting the desired frequency with the laser current knob is not so easy, as it has a high sensitivity. It would be better to select the frequency with a DC voltage offset through the analog input of the laser current control.\n",
    "\n",
    "This could be realized in the following way:\n",
    "\n",
    "- ramp voltage scan with zero offset: this is used to scan the frequency and check once in a while that we are still centered where we want, the SAS oscilloscope is locked to this signal so as soon as we turn the scan on we immediately see it on the oscilloscope\n",
    "- DC voltage in series: this is used to fine-tune the frequency, the offset remains even when we turn off the scanning voltage ramp"
   ]
  }
 ],
 "metadata": {
  "kernelspec": {
   "display_name": "Python 3 (ipykernel)",
   "language": "python",
   "name": "python3"
  },
  "language_info": {
   "codemirror_mode": {
    "name": "ipython",
    "version": 3
   },
   "file_extension": ".py",
   "mimetype": "text/x-python",
   "name": "python",
   "nbconvert_exporter": "python",
   "pygments_lexer": "ipython3",
   "version": "3.10.12"
  }
 },
 "nbformat": 4,
 "nbformat_minor": 2
}
