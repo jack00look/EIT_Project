{
 "cells": [
  {
   "cell_type": "markdown",
   "metadata": {},
   "source": [
    "# Optimal Conditions\n",
    "\n",
    "EIT is a coherent phenomenon, due to destructive interference between the pump and probe absorption. Due to coherent origin we need:\n",
    "\n",
    "## Alignment\n",
    "\n",
    "Pump and probe must be overlapped\n",
    "\n",
    "## Phase-Locking\n",
    "\n",
    "No coherence is possible if phase between pump and probe is random\n",
    "\n",
    "## Magnetic Field\n",
    "\n",
    "Theoretically we want only \"our\" magnetic field and we want it to be perfectly aligned with our laser beams.\\\n",
    "\n",
    "It is important to shield or compensate for stray fields in our setup which could come from:\n",
    "- earth magnetic field: around 0.5G, not so trivial after all\n",
    "- heater magnetic field: it is important to turn the heating system off for measurments\\\n",
    "\n",
    "It is also important to try to generate the most uniform magnetic field as possible:\n",
    "- long and large solenoid: the field is more uniform where Rb is\n",
    "\n",
    "\n"
   ]
  },
  {
   "cell_type": "markdown",
   "metadata": {},
   "source": [
    "# Critical Issues\n",
    "\n",
    "## Doppler Broadening\n",
    "\n",
    "The Rb D2 line has an hyperfine splitting smaller than the Doppler broadening, thus I will never be really adressing only one hyperfine state.\n",
    "Therefore the effect of the neighnouring states could have a very important effect on what I am seeing.\n",
    "\n",
    "Neighbouring states \n",
    "\n",
    "### Klabes (pg.63)\n",
    "\n",
    "The Rb D2 F=1,mF=+-1, F'=1,mF'=0 theoretically provides a very clean $\\Lambda$ system, but the neighbouring F'=0 state has opposite Clebsch-Gordan coefficient, so one's system dark state is another's dark state. This is detrimental for coherent effects to build up.\n",
    "They then shifted to Hyperfine EIT and then to D1 line\n",
    "\n",
    "My understanding is that this is the EIA vs EIT competition that you get when multiple hyperfine states play a role, if most neighbour states give EIT you will see EIT, if some give EIA and some EIT it will depend and you will get a small signal, ecc.\n",
    "\n",
    "### Worth (pg.6)\n",
    "\n",
    "For a chosen F->F' transition, if we consider all zeeman-sublevels, we have three cases:\n",
    "- F'>F: majority of V systems, EIA dominates\n",
    "- F'=F: equal number of V and $\\Lambda$ systems, EIT dominates\n",
    "- F'\\< F: more $\\Lambda$ systems, EIT dominates\n",
    "\n",
    "With Doppler broadening we are in fact adressing all hyperfine excited levels, therefore the net effect will depend on what feature (EIT or EIA) each excited state yealds and what is the relative strength of the transitions.\n",
    "\n",
    "<img src=\"Images/relative_transition_strength.png\" alt=\"drawing\" width=\"400\"/>\n",
    "\n",
    "It seems like the only transition that could yeald a EIT signal would then be the Rb85 Fg=2\n"
   ]
  },
  {
   "cell_type": "markdown",
   "metadata": {},
   "source": [
    "# Alternative Setup (Worth Thesis)\n",
    "\n",
    "Instead of using two beams we use one linearly polarized beam coaligned with the magnetic field, which will then effectively decompose into a left and right circularly polarized beam along the quantization axis, thus giving a pump-probe setup.\n",
    "\n",
    "Advantages:\n",
    "- perfect pump-probe spatial allineation\n",
    "- perfect phase-locking\n",
    "- no efficiency problems: the power of the laser is perfectly constant, as I am only modulating the magnetic field\n",
    "- simple setup\n",
    "\n",
    "Disadvantages:\n",
    "- more complicated theoretical understanding\n",
    "- impossible to sweep only probe frequency\n",
    "\n",
    "## Possible Implementation\n",
    "\n",
    "1. Use the pump beam with the AOM turned off: open the iris to let the 0th order through\n",
    "2. (Optional) Select the central part of the pump beam with an iris to have a cleaner/homogeneous beam profile\n",
    "3. Set the beam intensity to be in the 0.4- 2.0 mW/cm2 range\n",
    "4. Modulate the magnetic field: ideally you want a fairly big, modulation, they use +/-20G\n",
    "\n",
    "You can then look at two things:\n",
    "- select a frequency far away from any resonances: you should not see anything \n",
    "- select the Rb85 Fg=2 F' = 1 line, you should see an EIT feature\n",
    "\n",
    "Some comments:\n",
    "- they see that the signal gets worse at higher temperatures (basically disappears at 60°C)\n",
    "- they see that transverse magnetic fields, relative to the beam propagation direction, make the EIT feature broaden and eventually disappears, but 1G transverse field should still display a feature, so in theory even bad shielding should still display EIT\n",
    "\n",
    "Relevant experimental \"parameters\" are:\n",
    "- stray field compensation (they cancel up to 7mG with Helmotz coils, and then improve on that)\n",
    "- polarization purity (use glan-thompson PBS)\n",
    "- misalignment between field and beam"
   ]
  },
  {
   "cell_type": "markdown",
   "metadata": {},
   "source": [
    "# Bejing Work\n"
   ]
  }
 ],
 "metadata": {
  "language_info": {
   "name": "python"
  }
 },
 "nbformat": 4,
 "nbformat_minor": 2
}
