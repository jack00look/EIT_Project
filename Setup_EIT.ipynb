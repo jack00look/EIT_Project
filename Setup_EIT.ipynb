{
 "cells": [
  {
   "cell_type": "markdown",
   "metadata": {},
   "source": [
    "# Pump Rejection\n",
    "\n",
    "In principle we want as little as possible of pump power to leak to the photodiode after the EIT cell, this is because the pump power will be much bigger that the probe power, so if we do not reject it the signal will be almost impossible to see.\n",
    "\n",
    "## Polarization Rejection\n",
    "\n",
    "For the polarization rejection we tried:\n",
    "\n",
    "1. Sending the pump in transmission through a good (Thorlabs) PBS cube before the cell, in order to get as clean a polarization as possible for the pump\n",
    "2. Putting a lambda/4 plate before the cell and a PBS cube after the cell: getting circular polarization is now simply a matter of rotating the plate to minimize the signal after the pbs (also used good thorlabs PBS)\n",
    "3. Putting a lambda/4 plate after the cell (before PBS): rejecting the pump is now simply a matter of minimizing the power after the PBS\n",
    "4. Place a second good PBS after the cell, this should improve the rejection\n",
    "\n",
    "The rejection of the pump is quite good: with same power in pump and probe we get around 100:1 probe to pump signal. \n",
    "\n",
    "Having better PBS (think Glan-Thompson) could also help.\n",
    "\n",
    "## Spatial rejection\n",
    "\n",
    "### Angling\n",
    "\n",
    "In order to reject the pump we can also slightly misalign the pump and the probe angles.\n",
    "\n",
    "This will however increase the motional broadening of the 2-photon transition. Specifically, if we are in the Dicke narrowed regime the broadening will go like the square of the angle, while in the Doppler broadened regime the broadening will go like the angle itself.\n",
    "This broadening can decrease significantly the visibility of our signal.\n",
    "\n",
    "### Iris\n",
    "\n",
    "We can put an iris with a small aperture centered on the probe beam, this in principle helps even with pump and probe perfectly aligned, as the pump size is bigger than the probe's. Of course with an angle this is the best way to actively \"cut away\" as much pump signal as possible\n",
    "\n",
    "\n"
   ]
  },
  {
   "cell_type": "markdown",
   "metadata": {},
   "source": [
    "# Background noise\n",
    "\n",
    "We notice a constant background signal in our photodiode which:\n",
    "\n",
    "- does not depend on the lights: even if we turn off the lights it stays there\n",
    "- is dependent on the gain of the photodiode\n",
    "- does not go away if we turn off the laser (so is not for example 0th order leakage from the AOMs)\n",
    "\n",
    "With high gains (eg around 50dB) this offset amounts to around 20mV"
   ]
  },
  {
   "cell_type": "markdown",
   "metadata": {},
   "source": [
    "# Interference\n",
    "\n",
    "There can be two issue:\n",
    "\n",
    "- \"strange reflections\": the pump and or the probe get reflected somewhere and end up intefering with each other\n",
    "    - use beam blockers for PBS sides not in use\n",
    "    - take care that beams hit optics not on the edge\n",
    "    - take care that \"unwanted\" AOM diffraction orders get blocked and are not reflected around\n",
    "- pump leakage: since pump and prove come from the same initial laser and interact with AOMs drive with phase locked signals their electric field will interfere with each other, this can manifest in the photodiode after the EIT if the pump rejection is not perfect, and has some defining charatheristics\n",
    "\n",
    "## Pump-Probe Interference\n",
    "\n",
    "This noise manifests when you scan the laser frequency for the SAS. If you scan at for example 23Hz you will notice:\n",
    "- if the AOM frequency difference between pump and probe is commensurate with 23Hz the fringes will not move, and changing the phase of RF signals will cause the fringes tot shift\n",
    "- if the AOM frequency is not commensurate with 23Hz the fringes will move either left or right\n",
    "- the spacing of the fringes depends on the frequency difference magnitude between pump and probe\n",
    "\n",
    "<img src=\"Images/interference_1.jpg\" width=300/>\n",
    "\n",
    "<img src=\"Images/interference_2.jpg\" width=300/>\n",
    "\n",
    "These images are taken far from any resonances for different frequency differences between pump and probe RF drivings.\n",
    "\n",
    "This noise also manifests when you scan the probe frequency with respect to the pump frequency, as you will see a kind of \"beating\" that somewhere \"dies off\"\n",
    "\n",
    "<img src=\"Images/interference_beating.jpg\" width=300/>\n",
    "\n",
    "This can be annoying also when looking at doppler broadened spectroscopy after the EIT cell, as to look at it you need to scan the laser frequency, thus displaying this noise. However, in this case the problem can be circumvented by imposing a frequency difference of some MHz between pump and probe RF frequencies, as this will not affect significantly the signal.\n",
    "\n",
    "<img src=\"Images/EIT_spec.jpg\" width=500/>\n",
    "<img src=\"Images/EIT_spec_beating.jpg\" width=500/>\n",
    "<img src=\"Images/EIT_spec_nobeating.jpg\" width=500/>\n",
    "\n",
    "The first image is probe-only, the second image is probe and pump at same AOM shift so you see both saturation and beating, while the third image is probe and pump at different AOM shift so you only see saturation.\n",
    "\n"
   ]
  }
 ],
 "metadata": {
  "language_info": {
   "name": "python"
  }
 },
 "nbformat": 4,
 "nbformat_minor": 2
}
